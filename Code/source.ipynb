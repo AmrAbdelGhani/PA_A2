{
 "cells": [
  {
   "cell_type": "code",
   "execution_count": 18,
   "metadata": {
    "collapsed": false
   },
   "outputs": [],
   "source": [
    "import mnist_loader\n",
    "import numpy as np\n",
    "import matplotlib.pyplot as plt\n",
    "\n",
    "from __future__ import print_function\n",
    "import keras\n",
    "from keras.models import Sequential\n",
    "from keras.layers import Dense, Dropout, Activation, Flatten,core\n",
    "from keras.layers.normalization import BatchNormalization\n",
    "from keras import optimizers, applications\n",
    "from keras.models import Model\n",
    "from keras import backend as K"
   ]
  },
  {
   "cell_type": "code",
   "execution_count": 19,
   "metadata": {
    "collapsed": false
   },
   "outputs": [],
   "source": [
    "def regenModel(i = 250):\n",
    "    model = Sequential()\n",
    "    model.add(Dense(400, activation = 'relu', input_shape = (i,)))\n",
    "    model.add(BatchNormalization())\n",
    "    model.add(Dropout(0.3))\n",
    "    model.add(Dense(400, activation = 'relu'))\n",
    "    model.add(BatchNormalization())\n",
    "    model.add(Dropout(0.2))\n",
    "    model.add(Dense(10, activation='softmax'))\n",
    "    # Let's train the model using RMSprop\n",
    "    model.compile(loss='categorical_crossentropy',\n",
    "                  optimizer='adam',\n",
    "                  metrics=['accuracy'])\n",
    "    return model"
   ]
  },
  {
   "cell_type": "code",
   "execution_count": 20,
   "metadata": {
    "collapsed": false
   },
   "outputs": [
    {
     "name": "stdout",
     "output_type": "stream",
     "text": [
      "(60000, 784) (10000, 784)\n"
     ]
    }
   ],
   "source": [
    "training_data, validation_data, testing_data = mnist_loader.load_data_wrapper()\n",
    "x_train, y_train = zip(*training_data)\n",
    "x_train = np.array(list(x_train))\n",
    "y_train = np.array(list(y_train))\n",
    "\n",
    "x_val, y_val = zip(*validation_data)\n",
    "x_val = np.array(list(x_val))\n",
    "y_val = np.array(list(y_val))\n",
    "\n",
    "\n",
    "x_test, y_test = zip(*testing_data)\n",
    "x_test = np.array(list(x_test))\n",
    "y_test = np.array(list(y_test))\n",
    "\n",
    "x_train = np.concatenate( (x_train, x_val), axis = 0)\n",
    "y_train = np.concatenate( (y_train, y_val), axis = 0)\n",
    "\n",
    "x_train.shape = (x_train.shape[0],x_train.shape[1])\n",
    "x_test.shape = (x_test.shape[0],x_test.shape[1])\n",
    "\n",
    "y_train.shape = (y_train.shape[0],y_train.shape[1])\n",
    "y_test.shape = (y_test.shape[0],y_test.shape[1])\n",
    "print(x_train.shape, x_test.shape)\n",
    "\n",
    "x_train = x_train.astype(np.float64)\n",
    "x_test = x_test.astype(np.float64)"
   ]
  },
  {
   "cell_type": "code",
   "execution_count": 21,
   "metadata": {
    "collapsed": false
   },
   "outputs": [
    {
     "name": "stdout",
     "output_type": "stream",
     "text": [
      "(60000, 10)\n"
     ]
    }
   ],
   "source": [
    "print(y_train.shape)"
   ]
  },
  {
   "cell_type": "code",
   "execution_count": 22,
   "metadata": {
    "collapsed": false
   },
   "outputs": [],
   "source": [
    "#Apply PCA\n",
    "x_mean = np.mean(x_train,axis=0)\n",
    "X_train= x_train - x_mean\n",
    "X_test = x_test - x_mean\n",
    "cov = np.dot(X_train.T, X_train)/ X_train.shape[0] # get the data covariance matrix\n",
    "U,S,V = np.linalg.svd(cov) #Columns of U = eigenvectors, S = eigenvalues\n"
   ]
  },
  {
   "cell_type": "code",
   "execution_count": 26,
   "metadata": {
    "collapsed": true
   },
   "outputs": [
    {
     "data": {
      "image/png": "[encoded data removed]",
      "text/plain": [
       "<matplotlib.figure.Figure at 0x20c4f458b38>"
      ]
     },
     "metadata": {},
     "output_type": "display_data"
    },
    {
     "data": {
      "image/png": "[encoded data removed]",
      "text/plain": [
       "<matplotlib.figure.Figure at 0x20c485b29e8>"
      ]
     },
     "metadata": {},
     "output_type": "display_data"
    },
    {
     "data": {
      "image/png": "[encoded data removed]",
      "text/plain": [
       "<matplotlib.figure.Figure at 0x20c84721898>"
      ]
     },
     "metadata": {},
     "output_type": "display_data"
    },
    {
     "data": {
      "image/png": "[encoded data removed]",
      "text/plain": [
       "<matplotlib.figure.Figure at 0x20c848810f0>"
      ]
     },
     "metadata": {},
     "output_type": "display_data"
    },
    {
     "data": {
      "image/png": "[encoded data removed]",
      "text/plain": [
       "<matplotlib.figure.Figure at 0x20c06eb9b38>"
      ]
     },
     "metadata": {},
     "output_type": "display_data"
    }
   ],
   "source": [
    "#Visualize EigenVectors\n",
    "for i in range(0,5):\n",
    "    plt.imshow(U[:,i].reshape(28,28),cmap='gray')\n",
    "    plt.show()\n"
   ]
  },
  {
   "cell_type": "code",
   "execution_count": 27,
   "metadata": {
    "collapsed": true
   },
   "outputs": [
    {
     "data": {
      "image/png": "[encoded data removed]",
      "text/plain": [
       "<matplotlib.figure.Figure at 0x20c84671a20>"
      ]
     },
     "metadata": {},
     "output_type": "display_data"
    }
   ],
   "source": [
    "retained_var = []\n",
    "for i in range(1,784):\n",
    "    retained_var.append((np.sum(S[:i]) / np.sum(S)))\n",
    "\n",
    "#print(retained_var)\n",
    "\n",
    "plt.plot(range(1,784), retained_var, 'b')\n",
    "plt.xlabel('Number of Principal Components')\n",
    "plt.ylabel('Retained Variance')\n",
    "plt.show()"
   ]
  },
  {
   "cell_type": "code",
   "execution_count": 24,
   "metadata": {
    "collapsed": true
   },
   "outputs": [
    {
     "name": "stdout",
     "output_type": "stream",
     "text": [
      "Number of Principal Components:  1\n",
      "Accuracy:  0.3191\n",
      "Number of Principal Components:  5\n",
      "Accuracy:  0.765\n",
      "Number of Principal Components:  10\n",
      "Accuracy:  0.9458\n",
      "Number of Principal Components:  25\n",
      "Accuracy:  0.9824\n",
      "Number of Principal Components:  50\n",
      "Accuracy:  0.985\n",
      "Number of Principal Components:  100\n",
      "Accuracy:  0.9839\n",
      "Number of Principal Components:  250\n",
      "Accuracy:  0.9821\n",
      "Number of Principal Components:  500\n",
      "Accuracy:  0.9793\n",
      "Number of Principal Components:  784\n",
      "Accuracy:  0.9787\n"
     ]
    }
   ],
   "source": [
    "#Build a classifier\n",
    "num_PC = [1,5,10,25, 50,100,250,500,784]\n",
    "acc = []\n",
    "#Project Images onto PC\n",
    "for e in num_PC:\n",
    "    print('Number of Principal Components: ', e)\n",
    "    X_tr = np.dot(X_train, U[:,:e])\n",
    "    X_te = np.dot(X_test, U[:,:e])\n",
    "    model = regenModel(e)\n",
    "    model.fit(X_tr, y_train,\n",
    "                  batch_size=128,\n",
    "                  epochs=15,\n",
    "                  validation_data=(X_te, y_test), verbose = 0)\n",
    "    \n",
    "    eva = model.evaluate(X_te, y_test, batch_size=128,verbose = 0)\n",
    "    eva = np.asarray(eva)\n",
    "    acc.append(eva[1])\n",
    "    \n",
    "    #print('Accuracy: ',eva[1])\n"
   ]
  },
  {
   "cell_type": "code",
   "execution_count": 25,
   "metadata": {
    "collapsed": false
   },
   "outputs": [
    {
     "name": "stdout",
     "output_type": "stream",
     "text": [
      "[1, 5, 10, 25, 50, 100, 250, 500, 784]\n",
      "[0.3191, 0.765, 0.9458, 0.9824, 0.985, 0.9839, 0.9821, 0.9793, 0.9787]\n"
     ]
    },
    {
     "data": {
      "image/png": "[encoded data removed]",
      "text/plain": [
       "<matplotlib.figure.Figure at 0x20c847387f0>"
      ]
     },
     "metadata": {},
     "output_type": "display_data"
    }
   ],
   "source": [
    "print(num_PC)\n",
    "print(acc)\n",
    "plt.plot(num_PC,acc,'r')\n",
    "plt.xlabel('Number of Principal Components')\n",
    "plt.ylabel('ACCR')\n",
    "plt.show()"
   ]
  },
  {
   "cell_type": "code",
   "execution_count": 30,
   "metadata": {
    "collapsed": false
   },
   "outputs": [
    {
     "name": "stdout",
     "output_type": "stream",
     "text": [
      "Best Average CCR:  0.985\n"
     ]
    }
   ],
   "source": [
    "print('Best Average CCR: ', max(acc))"
   ]
  },
  {
   "cell_type": "code",
   "execution_count": null,
   "metadata": {
    "collapsed": true
   },
   "outputs": [],
   "source": []
  }
 ],
 "metadata": {
  "anaconda-cloud": {},
  "kernelspec": {
   "display_name": "Python [conda env:tensorflow]",
   "language": "python",
   "name": "conda-env-tensorflow-py"
  },
  "language_info": {
   "codemirror_mode": {
    "name": "ipython",
    "version": 3
   },
   "file_extension": ".py",
   "mimetype": "text/x-python",
   "name": "python",
   "nbconvert_exporter": "python",
   "pygments_lexer": "ipython3",
   "version": "3.5.2"
  }
 },
 "nbformat": 4,
 "nbformat_minor": 2
}
