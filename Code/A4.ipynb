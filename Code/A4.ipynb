{
 "cells": [
  {
   "cell_type": "code",
   "execution_count": 1,
   "metadata": {
    "collapsed": false
   },
   "outputs": [
    {
     "name": "stderr",
     "output_type": "stream",
     "text": [
      "Using TensorFlow backend.\n"
     ]
    }
   ],
   "source": [
    "import sklearn\n",
    "import numpy as np\n",
    "from __future__ import print_function\n",
    "import keras\n",
    "from keras.preprocessing.image import ImageDataGenerator\n",
    "from keras.models import Sequential\n",
    "from keras.layers import Dense, Dropout, Activation, Flatten,core\n",
    "from keras.layers.normalization import BatchNormalization\n",
    "from keras.layers import Conv2D,Conv1D, MaxPooling2D\n",
    "from keras import optimizers, applications\n",
    "from keras.applications import Xception\n",
    "from keras.preprocessing import image\n",
    "from keras.models import Model\n",
    "from keras.layers import Dense, GlobalAveragePooling2D\n",
    "from keras import backend as K"
   ]
  },
  {
   "cell_type": "code",
   "execution_count": 28,
   "metadata": {
    "collapsed": false
   },
   "outputs": [],
   "source": [
    "def regenModel(i = 8):\n",
    "    model = Sequential()\n",
    "    model.add(Dense(80, activation = 'relu', input_shape = (i,)))\n",
    "    model.add(Dense(50, activation = 'relu'))\n",
    "    model.add(Dense(10, activation = 'relu'))\n",
    "    model.add(Dropout(0.5))\n",
    "    model.add(BatchNormalization())\n",
    "    model.add(Dense(1, activation='sigmoid'))\n",
    "    # Let's train the model using RMSprop\n",
    "    model.compile(loss='binary_crossentropy',\n",
    "                  optimizer='adam',#keras.optimizers.sgd(lr=0.0001,momentum = 0.7,nesterov=True),\n",
    "                  metrics=['accuracy'])\n",
    "    return model"
   ]
  },
  {
   "cell_type": "code",
   "execution_count": 29,
   "metadata": {
    "collapsed": true
   },
   "outputs": [],
   "source": [
    "lines = [line.rstrip('\\n').split(',') for line in open('Data.txt')]\n",
    "lines = np.asarray(lines)\n",
    "X = lines[:,:-1]\n",
    "Y = lines[:,-1]\n",
    "X = X.astype(np.float64)\n",
    "Y = Y.astype(np.float64)"
   ]
  },
  {
   "cell_type": "code",
   "execution_count": 30,
   "metadata": {
    "collapsed": false,
    "scrolled": true
   },
   "outputs": [
    {
     "name": "stdout",
     "output_type": "stream",
     "text": [
      "KFold(n_splits=5, random_state=None, shuffle=False)\n",
      "Number of Eigenvectors:  1\n",
      "0.65244885746\n",
      "Number of Eigenvectors:  2\n",
      "0.740964265638\n",
      "Number of Eigenvectors:  3\n",
      "0.747440799832\n",
      "Number of Eigenvectors:  4\n",
      "0.748790428509\n",
      "Number of Eigenvectors:  5\n",
      "0.740964265956\n",
      "Number of Eigenvectors:  6\n",
      "0.769569648505\n",
      "Number of Eigenvectors:  7\n",
      "0.742279945209\n",
      "Number of Eigenvectors:  8\n",
      "0.754019185587\n"
     ]
    }
   ],
   "source": [
    "np.random.seed(42)\n",
    "from sklearn.model_selection import KFold\n",
    "kf = KFold(n_splits=5)\n",
    "#kf.get_n_splits(X)\n",
    "print(kf)  \n",
    "ind=0\n",
    "eigen_fa = []\n",
    "retained_var_list = []\n",
    "for i in range(1,9):\n",
    "    fold_acc = 0\n",
    "    retained_var = []\n",
    "    print('Number of Eigenvectors: ', i)\n",
    "    for train_index, test_index in kf.split(X):\n",
    "        #print('\\nFOLD: ', ind)\n",
    "        ind+=1\n",
    "        model = regenModel(i)\n",
    "        X_train, X_test = X[train_index], X[test_index]\n",
    "        y_train, y_test = Y[train_index], Y[test_index]\n",
    "        x_mean = np.mean(X_train,axis=0)\n",
    "        X_train-=x_mean\n",
    "        X_test -=x_mean\n",
    "        cov = np.dot(X_train.T, X_train)/ X_train.shape[0] # get the data covariance matrix\n",
    "        U,S,V = np.linalg.svd(cov) #U = eigenvectors, S = eigenvalues\n",
    "        X_train = np.dot(X_train, U[:,:i])\n",
    "        X_test = np.dot(X_test, U[:,:i])\n",
    "        model.fit(X_train, y_train,\n",
    "              batch_size=128,\n",
    "              epochs=100,\n",
    "              validation_data=(X_test, y_test),\n",
    "              shuffle=True,verbose = 0)\n",
    "        eva = model.evaluate(X_test, y_test, batch_size=64,verbose = 0)\n",
    "        eva = np.asarray(eva)\n",
    "        fold_acc += (eva[1]/5)\n",
    "        retained_var.append((np.sum(S[:i]) / np.sum(S)))\n",
    "        #print(eva)\n",
    "    print(fold_acc)\n",
    "    eigen_fa.append(fold_acc)\n",
    "    retained_var_list.append(retained_var)\n"
   ]
  },
  {
   "cell_type": "code",
   "execution_count": 31,
   "metadata": {
    "collapsed": false
   },
   "outputs": [
    {
     "name": "stdout",
     "output_type": "stream",
     "text": [
      "8\n"
     ]
    },
    {
     "data": {
      "image/png": "[encoded data removed]",
      "text/plain": [
       "<matplotlib.figure.Figure at 0x1e6f6888898>"
      ]
     },
     "metadata": {},
     "output_type": "display_data"
    }
   ],
   "source": [
    "import matplotlib.pyplot as plt\n",
    "%matplotlib inline\n",
    "print(len(retained_var_list))\n",
    "plt.xlabel('# of eigenvectors')\n",
    "plt.ylabel('Retained Variance')\n",
    "for i in range (1,9):\n",
    "    plt.plot([i,i,i,i,i], retained_var_list[i-1][:], 'bx')"
   ]
  },
  {
   "cell_type": "code",
   "execution_count": 32,
   "metadata": {
    "collapsed": false
   },
   "outputs": [
    {
     "name": "stdout",
     "output_type": "stream",
     "text": [
      "[0.65244885745998471, 0.74096426563810969, 0.74744079983221245, 0.74879042850914024, 0.7409642659558392, 0.76956964850516785, 0.74227994520932761, 0.75401918558725911]\n"
     ]
    },
    {
     "data": {
      "text/plain": [
       "[<matplotlib.lines.Line2D at 0x1e6f6cfe898>]"
      ]
     },
     "execution_count": 32,
     "metadata": {},
     "output_type": "execute_result"
    },
    {
     "data": {
      "image/png": "[encoded data removed]",
      "text/plain": [
       "<matplotlib.figure.Figure at 0x1e6f6cfecf8>"
      ]
     },
     "metadata": {},
     "output_type": "display_data"
    }
   ],
   "source": [
    "print(eigen_fa)\n",
    "plt.xlabel('# of eigenvectors')\n",
    "plt.ylabel('Accuracy')\n",
    "plt.plot(range(1,9),eigen_fa, 'bx')"
   ]
  },
  {
   "cell_type": "code",
   "execution_count": 35,
   "metadata": {
    "collapsed": false
   },
   "outputs": [
    {
     "name": "stdout",
     "output_type": "stream",
     "text": [
      "KFold(n_splits=5, random_state=None, shuffle=False)\n",
      "['loss', 'acc']\n",
      "\n",
      "FOLD:  0\n",
      "[0.50459222901951184, 0.75324675943944364]\n",
      "\n",
      "FOLD:  1\n",
      "[0.54456647495170696, 0.68831169760072386]\n",
      "\n",
      "FOLD:  2\n",
      "[0.48454031619158661, 0.75324675556901211]\n",
      "\n",
      "FOLD:  3\n",
      "[0.40996835784974439, 0.82352940825855026]\n",
      "\n",
      "FOLD:  4\n",
      "[0.52818261758953922, 0.72549019374099433]\n"
     ]
    }
   ],
   "source": [
    "np.random.seed(42)\n",
    "from sklearn.model_selection import KFold\n",
    "kf = KFold(n_splits=5)\n",
    "#kf.get_n_splits(X)\n",
    "print(kf)  \n",
    "ind=0\n",
    "fold_acc = []\n",
    "print(model.metrics_names)\n",
    "for train_index, test_index in kf.split(X):\n",
    "    print('\\nFOLD: ', ind)\n",
    "    ind+=1\n",
    "    model = regenModel()\n",
    "    X_train, X_test = X[train_index], X[test_index]\n",
    "    y_train, y_test = Y[train_index], Y[test_index]\n",
    "    model.fit(X_train, y_train,\n",
    "          batch_size=128,\n",
    "          epochs=50,\n",
    "          validation_data=(X_test, y_test),\n",
    "          shuffle=True,verbose = 0)\n",
    "    eva = model.evaluate(X_test, y_test, batch_size=64,verbose = 0)\n",
    "    fold_acc.append(eva[1])\n",
    "    print(eva)\n"
   ]
  },
  {
   "cell_type": "code",
   "execution_count": 36,
   "metadata": {
    "collapsed": false
   },
   "outputs": [
    {
     "name": "stdout",
     "output_type": "stream",
     "text": [
      "[ 0.75324676  0.6883117   0.75324676  0.82352941  0.72549019]\n"
     ]
    },
    {
     "data": {
      "text/plain": [
       "[<matplotlib.lines.Line2D at 0x2d4b7c12d68>]"
      ]
     },
     "execution_count": 36,
     "metadata": {},
     "output_type": "execute_result"
    },
    {
     "data": {
      "image/png": "[encoded data removed]",
      "text/plain": [
       "<matplotlib.figure.Figure at 0x2d4a5e0c160>"
      ]
     },
     "metadata": {},
     "output_type": "display_data"
    }
   ],
   "source": [
    "f_a  = np.asarray(fold_acc)\n",
    "print(f_a)\n",
    "plt.plot(range(1,6), f_a, 'bx')"
   ]
  },
  {
   "cell_type": "code",
   "execution_count": 37,
   "metadata": {
    "collapsed": false
   },
   "outputs": [
    {
     "data": {
      "text/plain": [
       "0.74876496292174488"
      ]
     },
     "execution_count": 37,
     "metadata": {},
     "output_type": "execute_result"
    }
   ],
   "source": [
    "np.mean(f_a)"
   ]
  },
  {
   "cell_type": "code",
   "execution_count": null,
   "metadata": {
    "collapsed": true
   },
   "outputs": [],
   "source": []
  }
 ],
 "metadata": {
  "anaconda-cloud": {},
  "kernelspec": {
   "display_name": "Python [conda env:tensorflow]",
   "language": "python",
   "name": "conda-env-tensorflow-py"
  },
  "language_info": {
   "codemirror_mode": {
    "name": "ipython",
    "version": 3
   },
   "file_extension": ".py",
   "mimetype": "text/x-python",
   "name": "python",
   "nbconvert_exporter": "python",
   "pygments_lexer": "ipython3",
   "version": "3.5.2"
  }
 },
 "nbformat": 4,
 "nbformat_minor": 2
}
