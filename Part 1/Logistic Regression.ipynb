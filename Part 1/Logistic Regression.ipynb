{
 "cells": [
  {
   "cell_type": "code",
   "execution_count": 1,
   "metadata": {
    "collapsed": true
   },
   "outputs": [],
   "source": [
    "import matplotlib.pyplot as plt\n",
    "import os\n",
    "import numpy as np\n",
    "from numpy.linalg import inv\n",
    "from sklearn import metrics"
   ]
  },
  {
   "cell_type": "code",
   "execution_count": 2,
   "metadata": {
    "collapsed": true
   },
   "outputs": [],
   "source": [
    "skin = open('data.txt','r')\n",
    "rl = skin.readlines()\n",
    "#print(rl)\n",
    "\n",
    "src_data = []\n",
    "count = [0,0]\n",
    "for e in rl:\n",
    "    if(e.find('\\n') != -1):\n",
    "        e = e[:-1]\n",
    "    a= e.split(' ')\n",
    "    f = np.ones(15)\n",
    "    for i in range(1,15):\n",
    "        f[i] = a[i-1]\n",
    "    f = [float(i) for i in f]\n",
    "    src_data.append(np.array(f))\n",
    "\n",
    "skin.close()\n",
    "#print(src_data)\n",
    "x_points = [e[:-1] for e in src_data]\n",
    "y_points = [e[-1]-1 for e in src_data]\n"
   ]
  },
  {
   "cell_type": "code",
   "execution_count": 3,
   "metadata": {
    "collapsed": false
   },
   "outputs": [
    {
     "name": "stdout",
     "output_type": "stream",
     "text": [
      "270\n",
      "216 54\n"
     ]
    }
   ],
   "source": [
    "print(len(src_data))\n",
    "x_train,y_train = np.array(x_points[:216]), y_points[0:216]\n",
    "x_test,y_test = np.array(x_points[216:]), y_points[216:]\n",
    "\n",
    "print(len(x_train), len(x_test))"
   ]
  },
  {
   "cell_type": "code",
   "execution_count": 4,
   "metadata": {
    "collapsed": true
   },
   "outputs": [],
   "source": [
    "def sig(w):\n",
    "    return (1 / (1 + np.exp(-1*w)))\n",
    "def p(x,B):\n",
    "    p_list = []\n",
    "    for e in x:\n",
    "        w = np.dot(e.T,B)\n",
    "        p_list.append(sig(w))\n",
    "    return np.array(p_list)\n",
    "def hess(x,B):\n",
    "    x_hs = []\n",
    "    for e in x:\n",
    "        w = np.dot(e.T,B)\n",
    "        a = np.dot(sig(w), (1-sig(w)))\n",
    "        a = np.dot(a,e.T)\n",
    "        x_hs.append(a)\n",
    "    return np.array(x_hs)\n",
    "def update(B, X, X_hs, Y, P):\n",
    "    P = p(X,B)\n",
    "    return B + np.dot( np.dot( inv( np.dot(X.T, X_hs) ), X.T ), (Y-P) )\n",
    "\n",
    "\n",
    "def newton(x_train,y_train):\n",
    "    \n",
    "    B = np.zeros(x_train[0].shape[0])\n",
    "    #print(B.shape)\n",
    "    X = x_train\n",
    "    Y = y_train\n",
    "    count = 0\n",
    "    while(count < 1000):\n",
    "        count+=1\n",
    "        P = p(X, B)\n",
    "        X_hs = hess(X,B)\n",
    "        B = update(B,X,X_hs,Y,P)\n",
    "        #print(B)\n",
    "    return B\n",
    "def evaluate(x,y,B):\n",
    "    correct = 0\n",
    "    #print(x)\n",
    "    for cn in range(x.shape[0]):\n",
    "        e = x[cn]\n",
    "        z = y[cn]\n",
    "        w = np.dot(e.T, B)\n",
    "        #print(sig(w), z)\n",
    "        if(sig(w) >= 0.5 and z == 1):\n",
    "            correct+=1.0\n",
    "        if(sig(w) < 0.5 and z == 0):\n",
    "            correct+=1.0\n",
    "    acc = correct / x.shape[0]\n",
    "    return acc\n",
    "\n",
    "def predict(x,B):\n",
    "    correct = 0\n",
    "    #print(x)\n",
    "    preds=  []\n",
    "    \n",
    "    for cn in range(x.shape[0]):\n",
    "        e = x[cn]\n",
    "        w = np.dot(e.T, B)\n",
    "        preds.append(sig(w))\n",
    "        '''if(sig(w) < 0.5):\n",
    "            preds.append(0.0)\n",
    "        else:\n",
    "            preds.append(1.0)'''\n",
    "            \n",
    "    return preds"
   ]
  },
  {
   "cell_type": "code",
   "execution_count": 5,
   "metadata": {
    "collapsed": true
   },
   "outputs": [],
   "source": [
    "B = newton(x_train,y_train)"
   ]
  },
  {
   "cell_type": "code",
   "execution_count": 6,
   "metadata": {
    "collapsed": false
   },
   "outputs": [
    {
     "name": "stdout",
     "output_type": "stream",
     "text": [
      "0.8564814814814815\n",
      "0.8888888888888888\n"
     ]
    }
   ],
   "source": [
    "#train\n",
    "print(evaluate(x_train,y_train,B))\n",
    "\n",
    "#train\n",
    "print(evaluate(x_test,y_test,B))"
   ]
  },
  {
   "cell_type": "code",
   "execution_count": 7,
   "metadata": {
    "collapsed": false
   },
   "outputs": [],
   "source": [
    "preds = predict(x_test,B)"
   ]
  },
  {
   "cell_type": "code",
   "execution_count": 8,
   "metadata": {
    "collapsed": true
   },
   "outputs": [],
   "source": [
    "fpr, tpr, threshold = metrics.roc_curve(y_test, preds)"
   ]
  },
  {
   "cell_type": "code",
   "execution_count": 9,
   "metadata": {
    "collapsed": false
   },
   "outputs": [
    {
     "data": {
      "image/png": "[encoded data removed]",
      "text/plain": [
       "<matplotlib.figure.Figure at 0x1a4900213c8>"
      ]
     },
     "metadata": {},
     "output_type": "display_data"
    }
   ],
   "source": [
    "roc_auc = metrics.auc(fpr, tpr)\n",
    "\n",
    "# method I: plt\n",
    "import matplotlib.pyplot as plt\n",
    "plt.title('Receiver Operating Characteristic')\n",
    "plt.plot(fpr, tpr, 'b', label = 'AUC = %0.2f' % roc_auc)\n",
    "plt.legend(loc = 'lower right')\n",
    "plt.plot([0, 1], [0, 1],'r--')\n",
    "plt.xlim([0, 1.05])\n",
    "plt.ylim([0, 1.05])\n",
    "plt.ylabel('True Positive Rate')\n",
    "plt.xlabel('False Positive Rate')\n",
    "plt.show()"
   ]
  },
  {
   "cell_type": "code",
   "execution_count": 10,
   "metadata": {
    "collapsed": false
   },
   "outputs": [
    {
     "name": "stdout",
     "output_type": "stream",
     "text": [
      "[0.99792593 0.97645766 0.9763118  0.64299674 0.52521955 0.51632487\n",
      " 0.2417803  0.22995389 0.18295204 0.16257923 0.12015902 0.11899209\n",
      " 0.10335178 0.09196714 0.0087733 ]\n"
     ]
    }
   ],
   "source": [
    "print(threshold)"
   ]
  },
  {
   "cell_type": "code",
   "execution_count": null,
   "metadata": {
    "collapsed": true
   },
   "outputs": [],
   "source": []
  }
 ],
 "metadata": {
  "anaconda-cloud": {},
  "kernelspec": {
   "display_name": "Python [conda env:tensorflow]",
   "language": "python",
   "name": "conda-env-tensorflow-py"
  },
  "language_info": {
   "codemirror_mode": {
    "name": "ipython",
    "version": 3
   },
   "file_extension": ".py",
   "mimetype": "text/x-python",
   "name": "python",
   "nbconvert_exporter": "python",
   "pygments_lexer": "ipython3",
   "version": "3.5.2"
  }
 },
 "nbformat": 4,
 "nbformat_minor": 2
}
